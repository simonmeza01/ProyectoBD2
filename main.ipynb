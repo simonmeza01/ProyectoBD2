{
 "cells": [
  {
   "cell_type": "code",
   "execution_count": 1,
   "metadata": {},
   "outputs": [],
   "source": [
    "import numpy as np\n",
    "import matplotlib.pyplot as plt\n",
    "import firebase_admin\n",
    "from firebase_admin import credentials, firestore\n",
    "from datetime import datetime"
   ]
  },
  {
   "cell_type": "code",
   "execution_count": 2,
   "metadata": {},
   "outputs": [
    {
     "data": {
      "text/plain": [
       "<firebase_admin.App at 0x1bfda611010>"
      ]
     },
     "execution_count": 2,
     "metadata": {},
     "output_type": "execute_result"
    }
   ],
   "source": [
    "cred = credentials.Certificate(\"serviceAccountKey.json\")\n",
    "firebase_admin.initialize_app(cred)"
   ]
  },
  {
   "cell_type": "code",
   "execution_count": 10,
   "metadata": {},
   "outputs": [
    {
     "name": "stdout",
     "output_type": "stream",
     "text": [
      "[2010 2011 2012 2013 2016 2015 2017 2018 2019 2022 2020 2023 2021 2014]\n",
      "[  1.78   1.9    2.26  10.03  14.25  16.    20.76  22.19  27.89 123.18\n",
      " 235.22 236.08 352.26  14.83]\n"
     ]
    }
   ],
   "source": [
    "\n",
    "db = firestore.client()\n",
    "coleccion_tesla = db.collection(\"PreciosTesla\")\n",
    "\n",
    "datos_tesla = coleccion_tesla.order_by(\"precioCierre\").get()\n",
    "# Inicializa las listas de x (fechas) y y (precios de cierre)\n",
    "x = []\n",
    "y = []\n",
    "\n",
    "# Llena las listas con los datos de Firebase\n",
    "for dato in datos_tesla:\n",
    "    fecha = dato.get('fecha')\n",
    "    x.append(fecha)\n",
    "\n",
    "    # Convierte el precio de cierre a un número (asumiendo que es un número)\n",
    "    precio_cierre = float(dato.get('precioCierre'))\n",
    "    y.append(precio_cierre)\n",
    "\n",
    "# Convierte las listas a arrays de NumPy\n",
    "x = np.array(x)\n",
    "y = np.array(y)\n",
    "print(x)\n",
    "print(y)"
   ]
  },
  {
   "cell_type": "code",
   "execution_count": 7,
   "metadata": {},
   "outputs": [],
   "source": [
    "x, indices = np.unique(x, return_index=True)\n",
    "y = y[indices]"
   ]
  },
  {
   "cell_type": "code",
   "execution_count": 8,
   "metadata": {},
   "outputs": [
    {
     "ename": "TypeError",
     "evalue": "unsupported operand type(s) for +: 'datetime.datetime' and 'float'",
     "output_type": "error",
     "traceback": [
      "\u001b[1;31m---------------------------------------------------------------------------\u001b[0m",
      "\u001b[1;31mTypeError\u001b[0m                                 Traceback (most recent call last)",
      "\u001b[1;32mc:\\Users\\simon\\OneDrive\\Documentos\\Simon Folder\\Trimestre 13\\BD2\\main.ipynb Cell 5\u001b[0m line \u001b[0;36m2\n\u001b[0;32m     <a href='vscode-notebook-cell:/c%3A/Users/simon/OneDrive/Documentos/Simon%20Folder/Trimestre%2013/BD2/main.ipynb#W4sZmlsZQ%3D%3D?line=22'>23</a>\u001b[0m anno \u001b[39m=\u001b[39m \u001b[39m'\u001b[39m\u001b[39m31/11/2023\u001b[39m\u001b[39m'\u001b[39m\n\u001b[0;32m     <a href='vscode-notebook-cell:/c%3A/Users/simon/OneDrive/Documentos/Simon%20Folder/Trimestre%2013/BD2/main.ipynb#W4sZmlsZQ%3D%3D?line=24'>25</a>\u001b[0m \u001b[39mfor\u001b[39;00m i \u001b[39min\u001b[39;00m \u001b[39mrange\u001b[39m(\u001b[39m0\u001b[39m, \u001b[39m10\u001b[39m):\n\u001b[1;32m---> <a href='vscode-notebook-cell:/c%3A/Users/simon/OneDrive/Documentos/Simon%20Folder/Trimestre%2013/BD2/main.ipynb#W4sZmlsZQ%3D%3D?line=25'>26</a>\u001b[0m     coef \u001b[39m=\u001b[39m np\u001b[39m.\u001b[39;49mpolyfit(x, y, i)\n\u001b[0;32m     <a href='vscode-notebook-cell:/c%3A/Users/simon/OneDrive/Documentos/Simon%20Folder/Trimestre%2013/BD2/main.ipynb#W4sZmlsZQ%3D%3D?line=26'>27</a>\u001b[0m     p \u001b[39m=\u001b[39m np\u001b[39m.\u001b[39mpolyval(coef, anno)\n\u001b[0;32m     <a href='vscode-notebook-cell:/c%3A/Users/simon/OneDrive/Documentos/Simon%20Folder/Trimestre%2013/BD2/main.ipynb#W4sZmlsZQ%3D%3D?line=28'>29</a>\u001b[0m     \u001b[39mprint\u001b[39m(\u001b[39mf\u001b[39m\u001b[39m\"\u001b[39m\u001b[39mPara grado \u001b[39m\u001b[39m{\u001b[39;00mi\u001b[39m}\u001b[39;00m\u001b[39m la predicción es \u001b[39m\u001b[39m{\u001b[39;00mp\u001b[39m}\u001b[39;00m\u001b[39m\"\u001b[39m)\n",
      "File \u001b[1;32m<__array_function__ internals>:200\u001b[0m, in \u001b[0;36mpolyfit\u001b[1;34m(*args, **kwargs)\u001b[0m\n",
      "File \u001b[1;32mc:\\Users\\simon\\AppData\\Local\\Programs\\Python\\Python311\\Lib\\site-packages\\numpy\\lib\\polynomial.py:629\u001b[0m, in \u001b[0;36mpolyfit\u001b[1;34m(x, y, deg, rcond, full, w, cov)\u001b[0m\n\u001b[0;32m    454\u001b[0m \u001b[39m\u001b[39m\u001b[39m\"\"\"\u001b[39;00m\n\u001b[0;32m    455\u001b[0m \u001b[39mLeast squares polynomial fit.\u001b[39;00m\n\u001b[0;32m    456\u001b[0m \n\u001b[1;32m   (...)\u001b[0m\n\u001b[0;32m    626\u001b[0m \n\u001b[0;32m    627\u001b[0m \u001b[39m\"\"\"\u001b[39;00m\n\u001b[0;32m    628\u001b[0m order \u001b[39m=\u001b[39m \u001b[39mint\u001b[39m(deg) \u001b[39m+\u001b[39m \u001b[39m1\u001b[39m\n\u001b[1;32m--> 629\u001b[0m x \u001b[39m=\u001b[39m NX\u001b[39m.\u001b[39;49masarray(x) \u001b[39m+\u001b[39;49m \u001b[39m0.0\u001b[39;49m\n\u001b[0;32m    630\u001b[0m y \u001b[39m=\u001b[39m NX\u001b[39m.\u001b[39masarray(y) \u001b[39m+\u001b[39m \u001b[39m0.0\u001b[39m\n\u001b[0;32m    632\u001b[0m \u001b[39m# check arguments.\u001b[39;00m\n",
      "\u001b[1;31mTypeError\u001b[0m: unsupported operand type(s) for +: 'datetime.datetime' and 'float'"
     ]
    }
   ],
   "source": [
    "def polynomial_evaluation(x, coefficients):\n",
    "    \"\"\"\n",
    "    Evaluates a polynomial with given coefficients at a specific point x.\n",
    "\n",
    "    Parameters:\n",
    "    - x (float): The value at which the polynomial is evaluated.\n",
    "    - coefficients (list): Coefficients of the polynomial in decreasing order.\n",
    "\n",
    "    Returns:\n",
    "    float: The result of the polynomial evaluation at x.\n",
    "    \"\"\"\n",
    "    result = 0\n",
    "    n = len(coefficients) - 1\n",
    "\n",
    "    for coef in coefficients:\n",
    "        result += coef * x**n\n",
    "        n -= 1\n",
    "\n",
    "    return result\n",
    "\n",
    "x = np.array(x)\n",
    "y = np.array(y)\n",
    "anno = '31/11/2023'\n",
    "\n",
    "for i in range(0, 10):\n",
    "    coef = np.polyfit(x, y, i)\n",
    "    p = np.polyval(coef, anno)\n",
    "\n",
    "    print(f\"Para grado {i} la predicción es {p}\")\n",
    "\n",
    "    x1 = np.linspace(1920, anno + 1, 1000)\n",
    "    y1 = polynomial_evaluation(x1, coef)\n",
    "\n",
    "    plt.figure(figsize=[20, 10])\n",
    "    plt.title(f\"Cantidad de litros vs año. Para grado: {i}\")\n",
    "\n",
    "    plt.scatter(x, y, s=120, c='blueviolet')\n",
    "    plt.plot(x1, y1, \"--\", linewidth=3, color='orange')\n",
    "    plt.scatter(anno, p, s=200, c='red')\n",
    "    plt.yticks(range(100, 320, 20))\n",
    "    plt.grid(True)\n",
    "    ax = plt.gca()\n",
    "    ax.set_xlabel(\"$años$\")\n",
    "    ax.set_ylabel(\"$Cantidad litros$\")\n",
    "    plt.show()"
   ]
  },
  {
   "cell_type": "code",
   "execution_count": null,
   "metadata": {},
   "outputs": [],
   "source": [
    "anno = 2000\n",
    "grado = np.arange(0, 30 + 1, 1)\n",
    "aproxi = np.array([])\n",
    "\n",
    "for i in grado:\n",
    "    coef = np.polyfit(x, y, i)\n",
    "    p = np.polyval(coef, anno)\n",
    "    aproxi = np.append(aproxi, p)\n",
    "\n",
    "    # Calcula el MSE de manera más eficiente sin bucle\n",
    "    y_pred_vec = np.polyval(coef, x)\n",
    "    MSE = np.mean((y - y_pred_vec)**2)\n",
    "    print(f\"Para grado {i} el MSE es: {MSE}\")\n",
    "plt.figure(figsize=[20, 10])\n",
    "plt.title(\"Grado del polinomio vs predicción\")\n",
    "plt.plot(grado, aproxi, \"--\", linewidth=3, color='red')\n",
    "plt.grid(True)\n",
    "plt.show()"
   ]
  }
 ],
 "metadata": {
  "kernelspec": {
   "display_name": "Python 3.10.0 64-bit",
   "language": "python",
   "name": "python3"
  },
  "language_info": {
   "codemirror_mode": {
    "name": "ipython",
    "version": 3
   },
   "file_extension": ".py",
   "mimetype": "text/x-python",
   "name": "python",
   "nbconvert_exporter": "python",
   "pygments_lexer": "ipython3",
   "version": "3.11.1"
  },
  "orig_nbformat": 4,
  "vscode": {
   "interpreter": {
    "hash": "afb734500600fd355917ca529030176ea0ca205570884b88f2f6f7d791fd3fbe"
   }
  }
 },
 "nbformat": 4,
 "nbformat_minor": 2
}
